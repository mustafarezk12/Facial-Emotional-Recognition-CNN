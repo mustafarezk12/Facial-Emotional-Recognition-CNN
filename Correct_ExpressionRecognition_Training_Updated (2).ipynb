{
  "cells": [
    {
      "cell_type": "markdown",
      "metadata": {
        "id": "_cVszeGY6PZy"
      },
      "source": [
        "### Get the data from Dropbox\n"
      ]
    },
    {
      "cell_type": "code",
      "execution_count": null,
      "metadata": {
        "colab": {
          "base_uri": "https://localhost:8080/"
        },
        "id": "59494a86",
        "outputId": "eec751d9-d135-4b1c-cfe5-f593c32be4d3"
      },
      "outputs": [
        {
          "output_type": "stream",
          "name": "stdout",
          "text": [
            "--2024-09-26 20:17:17--  https://www.dropbox.com/s/si11cws2pyho1bp/archive.zip\n",
            "Resolving www.dropbox.com (www.dropbox.com)... 162.125.65.18, 2620:100:6017:18::a27d:212\n",
            "Connecting to www.dropbox.com (www.dropbox.com)|162.125.65.18|:443... connected.\n",
            "HTTP request sent, awaiting response... 302 Found\n",
            "Location: https://www.dropbox.com/scl/fi/x9eaye2fanuc005ucprmq/archive.zip?rlkey=fawlx24mxtnicc8f65kd5ufap [following]\n",
            "--2024-09-26 20:17:18--  https://www.dropbox.com/scl/fi/x9eaye2fanuc005ucprmq/archive.zip?rlkey=fawlx24mxtnicc8f65kd5ufap\n",
            "Reusing existing connection to www.dropbox.com:443.\n",
            "HTTP request sent, awaiting response... 302 Found\n",
            "Location: https://ucb5afe2f1b8a5ac2e25b05f84df.dl.dropboxusercontent.com/cd/0/inline/CbW02tq7qUqNY6SEDc7bkR-Iyjc6YLjqTJeRa7swj1fMn3f8C9rZ7TqH9Ulmg9rhW0Lm2jXaRI58MhIWhK6WU3KThrPrFdIdU2cgeQrRrdYFiANlYtfGqT6A1ASo4FJF5eGBEub_PU_xk-QpBoQBFrZA/file# [following]\n",
            "--2024-09-26 20:17:19--  https://ucb5afe2f1b8a5ac2e25b05f84df.dl.dropboxusercontent.com/cd/0/inline/CbW02tq7qUqNY6SEDc7bkR-Iyjc6YLjqTJeRa7swj1fMn3f8C9rZ7TqH9Ulmg9rhW0Lm2jXaRI58MhIWhK6WU3KThrPrFdIdU2cgeQrRrdYFiANlYtfGqT6A1ASo4FJF5eGBEub_PU_xk-QpBoQBFrZA/file\n",
            "Resolving ucb5afe2f1b8a5ac2e25b05f84df.dl.dropboxusercontent.com (ucb5afe2f1b8a5ac2e25b05f84df.dl.dropboxusercontent.com)... 162.125.65.15, 2620:100:6017:15::a27d:20f\n",
            "Connecting to ucb5afe2f1b8a5ac2e25b05f84df.dl.dropboxusercontent.com (ucb5afe2f1b8a5ac2e25b05f84df.dl.dropboxusercontent.com)|162.125.65.15|:443... connected.\n",
            "HTTP request sent, awaiting response... 302 Found\n",
            "Location: /cd/0/inline2/CbXEKDH1ttbYFfPtSt-Boh_UDQfXe_8VkX288WgTBzKsdTFrdOKcURieA7E5oHtElpWxDkCWZwwnF2UukV2IBngoLMx_QZpa8S5_KCiTQN_ZdHhm5zgtEg-rA_Mj5OwO3h_b5QKeAtuRuivCF43VeHvan3PM7jffm1MaoLt4DSFzN5VQTRyABlZJwuTWWXwEFuytPSVpm1t7Ekhlj7rE2zw2-HpgPkgYSeZZ34ZXKkwk5p7CrheBSx9tEzYSZxofF0uRwQZtJvlOxZdrisuMVVSipM7E5Y5F_SvzDAuke9uwWNtqE0Qi3lkr8UrYGyCg-V67dP-FHsjZZlklj65EZOP5urzLLNj5jtj_Wf16VPxzjitAxpycLQFVldVwo_1etEM/file [following]\n",
            "--2024-09-26 20:17:20--  https://ucb5afe2f1b8a5ac2e25b05f84df.dl.dropboxusercontent.com/cd/0/inline2/CbXEKDH1ttbYFfPtSt-Boh_UDQfXe_8VkX288WgTBzKsdTFrdOKcURieA7E5oHtElpWxDkCWZwwnF2UukV2IBngoLMx_QZpa8S5_KCiTQN_ZdHhm5zgtEg-rA_Mj5OwO3h_b5QKeAtuRuivCF43VeHvan3PM7jffm1MaoLt4DSFzN5VQTRyABlZJwuTWWXwEFuytPSVpm1t7Ekhlj7rE2zw2-HpgPkgYSeZZ34ZXKkwk5p7CrheBSx9tEzYSZxofF0uRwQZtJvlOxZdrisuMVVSipM7E5Y5F_SvzDAuke9uwWNtqE0Qi3lkr8UrYGyCg-V67dP-FHsjZZlklj65EZOP5urzLLNj5jtj_Wf16VPxzjitAxpycLQFVldVwo_1etEM/file\n",
            "Reusing existing connection to ucb5afe2f1b8a5ac2e25b05f84df.dl.dropboxusercontent.com:443.\n",
            "HTTP request sent, awaiting response... 200 OK\n",
            "Length: 63252113 (60M) [application/zip]\n",
            "Saving to: ‘archive.zip’\n",
            "\n",
            "archive.zip         100%[===================>]  60.32M  15.0MB/s    in 4.2s    \n",
            "\n",
            "2024-09-26 20:17:25 (14.4 MB/s) - ‘archive.zip’ saved [63252113/63252113]\n",
            "\n"
          ]
        }
      ],
      "source": [
        "!wget https://www.dropbox.com/s/si11cws2pyho1bp/archive.zip"
      ]
    },
    {
      "cell_type": "code",
      "execution_count": null,
      "metadata": {
        "id": "c5094202"
      },
      "outputs": [],
      "source": [
        "!unzip -q \"/content/archive.zip\""
      ]
    },
    {
      "cell_type": "markdown",
      "source": [
        "### Imports required for this project\n"
      ],
      "metadata": {
        "id": "qgfWAXXXn8SH"
      }
    },
    {
      "cell_type": "code",
      "execution_count": null,
      "metadata": {
        "id": "8a95e0ad"
      },
      "outputs": [],
      "source": [
        "import tensorflow as tf\n",
        "import numpy as np\n",
        "import matplotlib.pyplot as plt\n",
        "from pathlib import Path\n",
        "\n",
        "tf.random.set_seed(4)"
      ]
    },
    {
      "cell_type": "markdown",
      "source": [
        "### Creating the Pathlib PATH objects"
      ],
      "metadata": {
        "id": "pSqgrE7VoBKx"
      }
    },
    {
      "cell_type": "code",
      "execution_count": null,
      "metadata": {
        "id": "f0abef46"
      },
      "outputs": [],
      "source": [
        "\n",
        "train_path = Path(\"/content/train\")\n",
        "test_path = Path(\"/content/test\")"
      ]
    },
    {
      "cell_type": "markdown",
      "source": [
        "###  Applying Data Augmentation to the training data"
      ],
      "metadata": {
        "id": "DLcHUe5DoOkg"
      }
    },
    {
      "cell_type": "code",
      "execution_count": null,
      "metadata": {
        "colab": {
          "base_uri": "https://localhost:8080/"
        },
        "id": "ccc0c0e4",
        "outputId": "9ae5c715-1282-4e90-cad5-69d51fc9e2de"
      },
      "outputs": [
        {
          "output_type": "stream",
          "name": "stdout",
          "text": [
            "Found 28709 images belonging to 7 classes.\n",
            "Found 7178 images belonging to 7 classes.\n"
          ]
        }
      ],
      "source": [
        "\n",
        "\n",
        "from tensorflow.keras.preprocessing.image import ImageDataGenerator\n",
        "\n",
        "# Data Augmentation for Training data to avoid overfitting\n",
        "train_datagen = ImageDataGenerator(\n",
        "    rescale=1./255,           # Rescale pixel values between 0 and 1\n",
        "    rotation_range=20,        # Random rotation\n",
        "    width_shift_range=0.2,    # Horizontal shift\n",
        "    height_shift_range=0.2,   # Vertical shift\n",
        "    shear_range=0.2,          # Shearing\n",
        "    zoom_range=0.2,           # Zooming\n",
        "    horizontal_flip=True,     # Horizontal flip\n",
        "    fill_mode='nearest'       # Fill mode\n",
        ")\n",
        "\n",
        "# No augmentation for the validation and test data, only rescaling\n",
        "valid_datagen = ImageDataGenerator(rescale=1./255)\n",
        "\n",
        "# Creating Data Generators for Train, Validation and Test\n",
        "train_generator = train_datagen.flow_from_directory(\n",
        "    train_path,\n",
        "    target_size=(150, 150),\n",
        "    batch_size=32,\n",
        "    class_mode='categorical'\n",
        ")\n",
        "\n",
        "valid_generator = valid_datagen.flow_from_directory(\n",
        "    test_path,\n",
        "    target_size=(150, 150),\n",
        "    batch_size=32,\n",
        "    class_mode='categorical'\n",
        ")\n"
      ]
    },
    {
      "cell_type": "markdown",
      "source": [
        "### Building a CNN model with dropout and regularization to avoid overfitting\n"
      ],
      "metadata": {
        "id": "TjHl8WTFoaCF"
      }
    },
    {
      "cell_type": "code",
      "execution_count": null,
      "metadata": {
        "colab": {
          "base_uri": "https://localhost:8080/"
        },
        "id": "8d94e6e4",
        "outputId": "122d6506-88c2-4abe-a989-500f5cb6b42b"
      },
      "outputs": [
        {
          "output_type": "stream",
          "name": "stderr",
          "text": [
            "/usr/local/lib/python3.10/dist-packages/keras/src/layers/convolutional/base_conv.py:107: UserWarning: Do not pass an `input_shape`/`input_dim` argument to a layer. When using Sequential models, prefer using an `Input(shape)` object as the first layer in the model instead.\n",
            "  super().__init__(activity_regularizer=activity_regularizer, **kwargs)\n"
          ]
        },
        {
          "output_type": "stream",
          "name": "stdout",
          "text": [
            "Epoch 1/50\n"
          ]
        },
        {
          "output_type": "stream",
          "name": "stderr",
          "text": [
            "/usr/local/lib/python3.10/dist-packages/keras/src/trainers/data_adapters/py_dataset_adapter.py:121: UserWarning: Your `PyDataset` class should call `super().__init__(**kwargs)` in its constructor. `**kwargs` can include `workers`, `use_multiprocessing`, `max_queue_size`. Do not pass these arguments to `fit()`, as they will be ignored.\n",
            "  self._warn_if_super_not_called()\n"
          ]
        },
        {
          "output_type": "stream",
          "name": "stdout",
          "text": [
            "\u001b[1m897/897\u001b[0m \u001b[32m━━━━━━━━━━━━━━━━━━━━\u001b[0m\u001b[37m\u001b[0m \u001b[1m188s\u001b[0m 199ms/step - accuracy: 0.2324 - loss: 2.1192 - val_accuracy: 0.2469 - val_loss: 1.8171\n",
            "Epoch 2/50\n",
            "\u001b[1m  1/897\u001b[0m \u001b[37m━━━━━━━━━━━━━━━━━━━━\u001b[0m \u001b[1m26s\u001b[0m 30ms/step - accuracy: 0.2500 - loss: 1.7784"
          ]
        },
        {
          "output_type": "stream",
          "name": "stderr",
          "text": [
            "/usr/lib/python3.10/contextlib.py:153: UserWarning: Your input ran out of data; interrupting training. Make sure that your dataset or generator can generate at least `steps_per_epoch * epochs` batches. You may need to use the `.repeat()` function when building your dataset.\n",
            "  self.gen.throw(typ, value, traceback)\n"
          ]
        },
        {
          "output_type": "stream",
          "name": "stdout",
          "text": [
            "\b\b\b\b\b\b\b\b\b\b\b\b\b\b\b\b\b\b\b\b\b\b\b\b\b\b\b\b\b\b\b\b\b\b\b\b\b\b\b\b\b\b\b\b\b\b\b\b\b\b\b\b\b\b\b\b\b\b\b\b\b\b\b\b\b\b\b\b\b\b\b\b\b\b\b\b\r\u001b[1m897/897\u001b[0m \u001b[32m━━━━━━━━━━━━━━━━━━━━\u001b[0m\u001b[37m\u001b[0m \u001b[1m1s\u001b[0m 1ms/step - accuracy: 0.2500 - loss: 1.7784 - val_accuracy: 0.4000 - val_loss: 2.1643\n",
            "Epoch 3/50\n",
            "\u001b[1m897/897\u001b[0m \u001b[32m━━━━━━━━━━━━━━━━━━━━\u001b[0m\u001b[37m\u001b[0m \u001b[1m189s\u001b[0m 192ms/step - accuracy: 0.2535 - loss: 1.8197 - val_accuracy: 0.2468 - val_loss: 1.8021\n",
            "Epoch 4/50\n",
            "\u001b[1m897/897\u001b[0m \u001b[32m━━━━━━━━━━━━━━━━━━━━\u001b[0m\u001b[37m\u001b[0m \u001b[1m0s\u001b[0m 76us/step - accuracy: 0.1250 - loss: 1.9423 - val_accuracy: 0.5000 - val_loss: 1.6510\n",
            "Epoch 5/50\n",
            "\u001b[1m897/897\u001b[0m \u001b[32m━━━━━━━━━━━━━━━━━━━━\u001b[0m\u001b[37m\u001b[0m \u001b[1m175s\u001b[0m 193ms/step - accuracy: 0.2494 - loss: 1.8136 - val_accuracy: 0.2485 - val_loss: 1.8007\n",
            "Epoch 6/50\n",
            "\u001b[1m897/897\u001b[0m \u001b[32m━━━━━━━━━━━━━━━━━━━━\u001b[0m\u001b[37m\u001b[0m \u001b[1m5s\u001b[0m 5ms/step - accuracy: 0.1250 - loss: 1.8239 - val_accuracy: 0.2000 - val_loss: 1.7815\n",
            "Epoch 7/50\n",
            "\u001b[1m897/897\u001b[0m \u001b[32m━━━━━━━━━━━━━━━━━━━━\u001b[0m\u001b[37m\u001b[0m \u001b[1m172s\u001b[0m 190ms/step - accuracy: 0.2537 - loss: 1.8110 - val_accuracy: 0.2469 - val_loss: 1.8006\n",
            "Epoch 8/50\n",
            "\u001b[1m897/897\u001b[0m \u001b[32m━━━━━━━━━━━━━━━━━━━━\u001b[0m\u001b[37m\u001b[0m \u001b[1m0s\u001b[0m 22us/step - accuracy: 0.1875 - loss: 1.8553 - val_accuracy: 0.3000 - val_loss: 1.7156\n",
            "Epoch 9/50\n",
            "\u001b[1m897/897\u001b[0m \u001b[32m━━━━━━━━━━━━━━━━━━━━\u001b[0m\u001b[37m\u001b[0m \u001b[1m172s\u001b[0m 190ms/step - accuracy: 0.2525 - loss: 1.8131 - val_accuracy: 0.2609 - val_loss: 1.8004\n"
          ]
        }
      ],
      "source": [
        "from tensorflow.keras.models import Sequential\n",
        "from tensorflow.keras.layers import Conv2D, MaxPooling2D, Flatten, Dense, Dropout\n",
        "from tensorflow.keras.callbacks import EarlyStopping\n",
        "\n",
        "# Determine the number of classes based on your dataset (replace 7 with actual number if different)\n",
        "num_classes = 7\n",
        "\n",
        "# Model architecture\n",
        "model = Sequential([\n",
        "    Conv2D(32, (3, 3), activation='relu', input_shape=(150, 150, 3)),\n",
        "    MaxPooling2D(pool_size=(2, 2)),\n",
        "    Dropout(0.25),  # Dropout to avoid overfitting\n",
        "\n",
        "    Conv2D(64, (3, 3), activation='relu'),\n",
        "    MaxPooling2D(pool_size=(2, 2)),\n",
        "    Dropout(0.25),\n",
        "\n",
        "    Flatten(),\n",
        "    Dense(128, activation='relu', kernel_regularizer=tf.keras.regularizers.l2(0.001)),  # L2 Regularization\n",
        "    Dropout(0.5),\n",
        "    Dense(num_classes, activation='softmax')  # Updated number of classes\n",
        "])\n",
        "\n",
        "# Compile the model\n",
        "model.compile(optimizer='adam',\n",
        "              loss='categorical_crossentropy',\n",
        "              metrics=['accuracy'])\n",
        "\n",
        "# Early stopping to avoid overfitting\n",
        "early_stopping = EarlyStopping(monitor='val_loss', patience=5, restore_best_weights=True)\n",
        "\n",
        "# Model training with early stopping\n",
        "history = model.fit(\n",
        "    train_generator,\n",
        "    steps_per_epoch=train_generator.samples // train_generator.batch_size,\n",
        "    validation_data=valid_generator,\n",
        "    validation_steps=valid_generator.samples // valid_generator.batch_size,\n",
        "    epochs=50,\n",
        "    callbacks=[early_stopping]  # Using early stopping\n",
        ")\n"
      ]
    },
    {
      "cell_type": "markdown",
      "source": [
        "### Getting Image paths\n"
      ],
      "metadata": {
        "id": "H0duN8NIod1q"
      }
    },
    {
      "cell_type": "code",
      "execution_count": null,
      "metadata": {
        "colab": {
          "base_uri": "https://localhost:8080/"
        },
        "id": "39563a14",
        "outputId": "98ccdab2-54d9-464a-beb1-e2fd54f00761"
      },
      "outputs": [
        {
          "output_type": "execute_result",
          "data": {
            "text/plain": [
              "['/content/train/angry/Training_94952701.jpg',\n",
              " '/content/train/angry/Training_84701834.jpg',\n",
              " '/content/train/angry/Training_78323011.jpg',\n",
              " '/content/train/angry/Training_86431040.jpg',\n",
              " '/content/train/angry/Training_91558476.jpg',\n",
              " '/content/train/angry/Training_43270328.jpg',\n",
              " '/content/train/angry/Training_90610607.jpg',\n",
              " '/content/train/angry/Training_70972934.jpg',\n",
              " '/content/train/angry/Training_28667373.jpg',\n",
              " '/content/train/angry/Training_89114103.jpg']"
            ]
          },
          "metadata": {},
          "execution_count": 8
        }
      ],
      "source": [
        "train_image_paths = list(train_path.glob(\"*/*\"))\n",
        "train_image_paths = list(map(lambda x : str(x) , train_image_paths))\n",
        "\n",
        "train_image_paths[:10]"
      ]
    },
    {
      "cell_type": "markdown",
      "source": [
        "### Getting their respective labels\n",
        "\n"
      ],
      "metadata": {
        "id": "aq4qZzHUog5k"
      }
    },
    {
      "cell_type": "code",
      "execution_count": null,
      "metadata": {
        "colab": {
          "base_uri": "https://localhost:8080/"
        },
        "id": "37ac2fbe",
        "outputId": "26568ace-1b01-4bd7-f366-1009b7c5611d"
      },
      "outputs": [
        {
          "output_type": "execute_result",
          "data": {
            "text/plain": [
              "['angry',\n",
              " 'angry',\n",
              " 'angry',\n",
              " 'angry',\n",
              " 'angry',\n",
              " 'angry',\n",
              " 'angry',\n",
              " 'angry',\n",
              " 'angry',\n",
              " 'angry']"
            ]
          },
          "metadata": {},
          "execution_count": 9
        }
      ],
      "source": [
        "\n",
        "def get_label(image_path):\n",
        "    return image_path.split(\"/\")[-2]\n",
        "\n",
        "train_image_labels = list(map(lambda x : get_label(x) , train_image_paths))\n",
        "train_image_labels[:10]"
      ]
    },
    {
      "cell_type": "markdown",
      "source": [
        "### Apply label encoder"
      ],
      "metadata": {
        "id": "rA7zeFzaonmn"
      }
    },
    {
      "cell_type": "code",
      "execution_count": null,
      "metadata": {
        "colab": {
          "base_uri": "https://localhost:8080/"
        },
        "id": "2608b3bf",
        "outputId": "3d88bea8-6e8a-422f-9fd2-a7fd3849c47b"
      },
      "outputs": [
        {
          "output_type": "execute_result",
          "data": {
            "text/plain": [
              "array([0, 0, 0, 0, 0, 0, 0, 0, 0, 0])"
            ]
          },
          "metadata": {},
          "execution_count": 10
        }
      ],
      "source": [
        "from sklearn.preprocessing import LabelEncoder\n",
        "\n",
        "Le = LabelEncoder()\n",
        "train_image_labels = Le.fit_transform(train_image_labels)\n",
        "\n",
        "train_image_labels[:10]"
      ]
    },
    {
      "cell_type": "code",
      "execution_count": null,
      "metadata": {
        "colab": {
          "base_uri": "https://localhost:8080/"
        },
        "id": "78989ec1",
        "outputId": "b8228962-35f7-4335-d573-f04c7b169fee"
      },
      "outputs": [
        {
          "output_type": "execute_result",
          "data": {
            "text/plain": [
              "array([[1., 0., 0., 0., 0., 0., 0.],\n",
              "       [1., 0., 0., 0., 0., 0., 0.],\n",
              "       [1., 0., 0., 0., 0., 0., 0.],\n",
              "       [1., 0., 0., 0., 0., 0., 0.],\n",
              "       [1., 0., 0., 0., 0., 0., 0.],\n",
              "       [1., 0., 0., 0., 0., 0., 0.],\n",
              "       [1., 0., 0., 0., 0., 0., 0.],\n",
              "       [1., 0., 0., 0., 0., 0., 0.],\n",
              "       [1., 0., 0., 0., 0., 0., 0.],\n",
              "       [1., 0., 0., 0., 0., 0., 0.]])"
            ]
          },
          "metadata": {},
          "execution_count": 11
        }
      ],
      "source": [
        "train_image_labels = tf.keras.utils.to_categorical(train_image_labels)\n",
        "\n",
        "train_image_labels[:10]"
      ]
    },
    {
      "cell_type": "markdown",
      "source": [
        "### split the data"
      ],
      "metadata": {
        "id": "LPfbwbHXosqP"
      }
    },
    {
      "cell_type": "code",
      "execution_count": null,
      "metadata": {
        "id": "65cfec17"
      },
      "outputs": [],
      "source": [
        "from sklearn.model_selection import train_test_split\n",
        "\n",
        "Train_paths , Val_paths , Train_labels , Val_labels = train_test_split(train_image_paths , train_image_labels , test_size = 0.25)"
      ]
    },
    {
      "cell_type": "markdown",
      "source": [
        "### Compute class weights\n",
        "#### where the goal is to assign higher weights to underrepresented classes to help balance the model's training"
      ],
      "metadata": {
        "id": "xS-o3aY1oyst"
      }
    },
    {
      "cell_type": "code",
      "execution_count": null,
      "metadata": {
        "colab": {
          "base_uri": "https://localhost:8080/"
        },
        "id": "09cb0e38",
        "outputId": "d40612b8-bf8b-4569-f767-81b097ff0a08"
      },
      "outputs": [
        {
          "output_type": "stream",
          "name": "stdout",
          "text": [
            "{0: 1.7913477537437603, 1: 15.83235294117647, 2: 1.7494312642183945, 3: 1.0, 4: 1.4404602622424405, 5: 1.4936182019977802, 6: 2.2570230607966457}\n"
          ]
        }
      ],
      "source": [
        "classTotals = Train_labels.sum(axis=0)\n",
        "classWeight = classTotals.max() / classTotals\n",
        "\n",
        "class_weight = {e : weight for e , weight in enumerate(classWeight)}\n",
        "print(class_weight)"
      ]
    },
    {
      "cell_type": "markdown",
      "metadata": {
        "id": "wHd7EARA6NSl"
      },
      "source": [
        "### Function used for Transformation\n"
      ]
    },
    {
      "cell_type": "code",
      "execution_count": null,
      "metadata": {
        "id": "bc321dab"
      },
      "outputs": [],
      "source": [
        "def load(image , label):\n",
        "    image = tf.io.read_file(image)\n",
        "    image = tf.io.decode_jpeg(image , channels = 3)#This decodes the binary JPEG string into a 3-channel (RGB) image tensor.\n",
        "    return image , label"
      ]
    },
    {
      "cell_type": "markdown",
      "source": [
        "### Define IMAGE SIZE and BATCH SIZE\n"
      ],
      "metadata": {
        "id": "AVkiEQSqtm-N"
      }
    },
    {
      "cell_type": "code",
      "execution_count": null,
      "metadata": {
        "id": "03b9216d"
      },
      "outputs": [],
      "source": [
        "IMG_SIZE = 96\n",
        "BATCH_SIZE = 32\n",
        "\n",
        "# Basic Transformation\n",
        "resize = tf.keras.Sequential([\n",
        "    tf.keras.layers.Resizing(IMG_SIZE, IMG_SIZE)\n",
        "])\n",
        "\n",
        "# Data Augmentation\n",
        "data_augmentation = tf.keras.Sequential([\n",
        "    tf.keras.layers.RandomFlip(\"horizontal\"),\n",
        "    tf.keras.layers.RandomRotation(0.1),\n",
        "    tf.keras.layers.RandomZoom(height_factor = (-0.1, -0.05))\n",
        "])"
      ]
    },
    {
      "cell_type": "markdown",
      "source": [
        "### Function used to Create a Tensorflow Data Object\n"
      ],
      "metadata": {
        "id": "DT2zGJjBtvkH"
      }
    },
    {
      "cell_type": "code",
      "execution_count": null,
      "metadata": {
        "id": "7754059f"
      },
      "outputs": [],
      "source": [
        "AUTOTUNE = tf.data.experimental.AUTOTUNE\n",
        "def get_dataset(paths , labels , train = True):\n",
        "    image_paths = tf.convert_to_tensor(paths)\n",
        "    labels = tf.convert_to_tensor(labels)\n",
        "\n",
        "    image_dataset = tf.data.Dataset.from_tensor_slices(image_paths)\n",
        "    label_dataset = tf.data.Dataset.from_tensor_slices(labels)\n",
        "\n",
        "    dataset = tf.data.Dataset.zip((image_dataset , label_dataset))\n",
        "\n",
        "    dataset = dataset.map(lambda image , label : load(image , label))\n",
        "    dataset = dataset.map(lambda image, label: (resize(image), label) , num_parallel_calls=AUTOTUNE)\n",
        "    dataset = dataset.shuffle(1000)\n",
        "    dataset = dataset.batch(BATCH_SIZE)\n",
        "\n",
        "    if train:\n",
        "        dataset = dataset.map(lambda image, label: (data_augmentation(image), label) , num_parallel_calls=AUTOTUNE)\n",
        "\n",
        "    dataset = dataset.repeat()\n",
        "    return dataset"
      ]
    },
    {
      "cell_type": "markdown",
      "source": [
        "### Creating Train Dataset object and Verifying it\n"
      ],
      "metadata": {
        "id": "Ld-EErrGt0gm"
      }
    },
    {
      "cell_type": "code",
      "execution_count": null,
      "metadata": {
        "colab": {
          "base_uri": "https://localhost:8080/"
        },
        "id": "1bca17cb",
        "outputId": "492b96bf-3da5-48ef-92de-0695e58ef854"
      },
      "outputs": [
        {
          "output_type": "stream",
          "name": "stdout",
          "text": [
            "CPU times: user 266 ms, sys: 7.01 ms, total: 273 ms\n",
            "Wall time: 266 ms\n",
            "(32, 96, 96, 3)\n",
            "(32, 7)\n"
          ]
        }
      ],
      "source": [
        "%time train_dataset = get_dataset(Train_paths , Train_labels)\n",
        "\n",
        "image , label = next(iter(train_dataset))\n",
        "print(image.shape)\n",
        "print(label.shape)"
      ]
    },
    {
      "cell_type": "markdown",
      "source": [
        "### View a sample Training Image\n"
      ],
      "metadata": {
        "id": "BYhBpSpyt3TH"
      }
    },
    {
      "cell_type": "code",
      "execution_count": null,
      "metadata": {
        "colab": {
          "base_uri": "https://localhost:8080/",
          "height": 469
        },
        "id": "2ae82c91",
        "outputId": "5e942048-69c6-4f41-95aa-bbc9c5b3bc3d"
      },
      "outputs": [
        {
          "output_type": "stream",
          "name": "stdout",
          "text": [
            "fear\n"
          ]
        },
        {
          "output_type": "execute_result",
          "data": {
            "text/plain": [
              "<matplotlib.image.AxesImage at 0x7b0a60122f50>"
            ]
          },
          "metadata": {},
          "execution_count": 18
        },
        {
          "output_type": "display_data",
          "data": {
            "text/plain": [
              "<Figure size 640x480 with 1 Axes>"
            ],
            "image/png": "[encoded data removed]"
          },
          "metadata": {}
        }
      ],
      "source": [
        "print(Le.inverse_transform(np.argmax(label , axis = 1))[0])\n",
        "plt.imshow((image[0].numpy()/255).reshape(96 , 96 , 3))"
      ]
    },
    {
      "cell_type": "code",
      "execution_count": null,
      "metadata": {
        "colab": {
          "base_uri": "https://localhost:8080/"
        },
        "id": "9cd6fb03",
        "outputId": "24bad11d-8d6a-46da-9b03-9aae7c9e4725"
      },
      "outputs": [
        {
          "output_type": "stream",
          "name": "stdout",
          "text": [
            "CPU times: user 43.5 ms, sys: 0 ns, total: 43.5 ms\n",
            "Wall time: 46.9 ms\n",
            "(32, 96, 96, 3)\n",
            "(32, 7)\n"
          ]
        }
      ],
      "source": [
        "%time val_dataset = get_dataset(Val_paths , Val_labels , train = False)\n",
        "\n",
        "image , label = next(iter(val_dataset))\n",
        "print(image.shape)\n",
        "print(label.shape)"
      ]
    },
    {
      "cell_type": "code",
      "execution_count": null,
      "metadata": {
        "colab": {
          "base_uri": "https://localhost:8080/",
          "height": 469
        },
        "id": "789ac3c6",
        "outputId": "f29d0359-56d9-49c5-ee8a-36d1f53da24b"
      },
      "outputs": [
        {
          "output_type": "stream",
          "name": "stdout",
          "text": [
            "angry\n"
          ]
        },
        {
          "output_type": "execute_result",
          "data": {
            "text/plain": [
              "<matplotlib.image.AxesImage at 0x7b09fbba0790>"
            ]
          },
          "metadata": {},
          "execution_count": 20
        },
        {
          "output_type": "display_data",
          "data": {
            "text/plain": [
              "<Figure size 640x480 with 1 Axes>"
            ],
            "image/png": "[encoded data removed]"
          },
          "metadata": {}
        }
      ],
      "source": [
        "print(Le.inverse_transform(np.argmax(label , axis = 1))[0])\n",
        "plt.imshow((image[0].numpy()/255).reshape(96 , 96 , 3))"
      ]
    },
    {
      "cell_type": "markdown",
      "source": [
        "### Building EfficientNet model\n"
      ],
      "metadata": {
        "id": "qRIc_5Bgt8ZI"
      }
    },
    {
      "cell_type": "code",
      "execution_count": null,
      "metadata": {
        "colab": {
          "base_uri": "https://localhost:8080/",
          "height": 341
        },
        "id": "f0e3bd5c",
        "outputId": "7f414232-14b0-44ac-b33b-332b98130067"
      },
      "outputs": [
        {
          "output_type": "stream",
          "name": "stdout",
          "text": [
            "Downloading data from https://storage.googleapis.com/keras-applications/efficientnetb2_notop.h5\n",
            "\u001b[1m31790344/31790344\u001b[0m \u001b[32m━━━━━━━━━━━━━━━━━━━━\u001b[0m\u001b[37m\u001b[0m \u001b[1m0s\u001b[0m 0us/step\n"
          ]
        },
        {
          "output_type": "display_data",
          "data": {
            "text/plain": [
              "\u001b[1mModel: \"sequential_4\"\u001b[0m\n"
            ],
            "text/html": [
              "<pre style=\"white-space:pre;overflow-x:auto;line-height:normal;font-family:Menlo,'DejaVu Sans Mono',consolas,'Courier New',monospace\"><span style=\"font-weight: bold\">Model: \"sequential_4\"</span>\n",
              "</pre>\n"
            ]
          },
          "metadata": {}
        },
        {
          "output_type": "display_data",
          "data": {
            "text/plain": [
              "┏━━━━━━━━━━━━━━━━━━━━━━━━━━━━━━━━━━━━━━┳━━━━━━━━━━━━━━━━━━━━━━━━━━━━━┳━━━━━━━━━━━━━━━━━┓\n",
              "┃\u001b[1m \u001b[0m\u001b[1mLayer (type)                        \u001b[0m\u001b[1m \u001b[0m┃\u001b[1m \u001b[0m\u001b[1mOutput Shape               \u001b[0m\u001b[1m \u001b[0m┃\u001b[1m \u001b[0m\u001b[1m        Param #\u001b[0m\u001b[1m \u001b[0m┃\n",
              "┡━━━━━━━━━━━━━━━━━━━━━━━━━━━━━━━━━━━━━━╇━━━━━━━━━━━━━━━━━━━━━━━━━━━━━╇━━━━━━━━━━━━━━━━━┩\n",
              "│ efficientnetb2 (\u001b[38;5;33mFunctional\u001b[0m)          │ (\u001b[38;5;45mNone\u001b[0m, \u001b[38;5;34m3\u001b[0m, \u001b[38;5;34m3\u001b[0m, \u001b[38;5;34m1408\u001b[0m)          │       \u001b[38;5;34m7,768,569\u001b[0m │\n",
              "├──────────────────────────────────────┼─────────────────────────────┼─────────────────┤\n",
              "│ global_average_pooling2d             │ (\u001b[38;5;45mNone\u001b[0m, \u001b[38;5;34m1408\u001b[0m)                │               \u001b[38;5;34m0\u001b[0m │\n",
              "│ (\u001b[38;5;33mGlobalAveragePooling2D\u001b[0m)             │                             │                 │\n",
              "├──────────────────────────────────────┼─────────────────────────────┼─────────────────┤\n",
              "│ dropout_6 (\u001b[38;5;33mDropout\u001b[0m)                  │ (\u001b[38;5;45mNone\u001b[0m, \u001b[38;5;34m1408\u001b[0m)                │               \u001b[38;5;34m0\u001b[0m │\n",
              "├──────────────────────────────────────┼─────────────────────────────┼─────────────────┤\n",
              "│ dense_4 (\u001b[38;5;33mDense\u001b[0m)                      │ (\u001b[38;5;45mNone\u001b[0m, \u001b[38;5;34m128\u001b[0m)                 │         \u001b[38;5;34m180,352\u001b[0m │\n",
              "├──────────────────────────────────────┼─────────────────────────────┼─────────────────┤\n",
              "│ dense_5 (\u001b[38;5;33mDense\u001b[0m)                      │ (\u001b[38;5;45mNone\u001b[0m, \u001b[38;5;34m7\u001b[0m)                   │             \u001b[38;5;34m903\u001b[0m │\n",
              "└──────────────────────────────────────┴─────────────────────────────┴─────────────────┘\n"
            ],
            "text/html": [
              "<pre style=\"white-space:pre;overflow-x:auto;line-height:normal;font-family:Menlo,'DejaVu Sans Mono',consolas,'Courier New',monospace\">┏━━━━━━━━━━━━━━━━━━━━━━━━━━━━━━━━━━━━━━┳━━━━━━━━━━━━━━━━━━━━━━━━━━━━━┳━━━━━━━━━━━━━━━━━┓\n",
              "┃<span style=\"font-weight: bold\"> Layer (type)                         </span>┃<span style=\"font-weight: bold\"> Output Shape                </span>┃<span style=\"font-weight: bold\">         Param # </span>┃\n",
              "┡━━━━━━━━━━━━━━━━━━━━━━━━━━━━━━━━━━━━━━╇━━━━━━━━━━━━━━━━━━━━━━━━━━━━━╇━━━━━━━━━━━━━━━━━┩\n",
              "│ efficientnetb2 (<span style=\"color: #0087ff; text-decoration-color: #0087ff\">Functional</span>)          │ (<span style=\"color: #00d7ff; text-decoration-color: #00d7ff\">None</span>, <span style=\"color: #00af00; text-decoration-color: #00af00\">3</span>, <span style=\"color: #00af00; text-decoration-color: #00af00\">3</span>, <span style=\"color: #00af00; text-decoration-color: #00af00\">1408</span>)          │       <span style=\"color: #00af00; text-decoration-color: #00af00\">7,768,569</span> │\n",
              "├──────────────────────────────────────┼─────────────────────────────┼─────────────────┤\n",
              "│ global_average_pooling2d             │ (<span style=\"color: #00d7ff; text-decoration-color: #00d7ff\">None</span>, <span style=\"color: #00af00; text-decoration-color: #00af00\">1408</span>)                │               <span style=\"color: #00af00; text-decoration-color: #00af00\">0</span> │\n",
              "│ (<span style=\"color: #0087ff; text-decoration-color: #0087ff\">GlobalAveragePooling2D</span>)             │                             │                 │\n",
              "├──────────────────────────────────────┼─────────────────────────────┼─────────────────┤\n",
              "│ dropout_6 (<span style=\"color: #0087ff; text-decoration-color: #0087ff\">Dropout</span>)                  │ (<span style=\"color: #00d7ff; text-decoration-color: #00d7ff\">None</span>, <span style=\"color: #00af00; text-decoration-color: #00af00\">1408</span>)                │               <span style=\"color: #00af00; text-decoration-color: #00af00\">0</span> │\n",
              "├──────────────────────────────────────┼─────────────────────────────┼─────────────────┤\n",
              "│ dense_4 (<span style=\"color: #0087ff; text-decoration-color: #0087ff\">Dense</span>)                      │ (<span style=\"color: #00d7ff; text-decoration-color: #00d7ff\">None</span>, <span style=\"color: #00af00; text-decoration-color: #00af00\">128</span>)                 │         <span style=\"color: #00af00; text-decoration-color: #00af00\">180,352</span> │\n",
              "├──────────────────────────────────────┼─────────────────────────────┼─────────────────┤\n",
              "│ dense_5 (<span style=\"color: #0087ff; text-decoration-color: #0087ff\">Dense</span>)                      │ (<span style=\"color: #00d7ff; text-decoration-color: #00d7ff\">None</span>, <span style=\"color: #00af00; text-decoration-color: #00af00\">7</span>)                   │             <span style=\"color: #00af00; text-decoration-color: #00af00\">903</span> │\n",
              "└──────────────────────────────────────┴─────────────────────────────┴─────────────────┘\n",
              "</pre>\n"
            ]
          },
          "metadata": {}
        },
        {
          "output_type": "display_data",
          "data": {
            "text/plain": [
              "\u001b[1m Total params: \u001b[0m\u001b[38;5;34m7,949,824\u001b[0m (30.33 MB)\n"
            ],
            "text/html": [
              "<pre style=\"white-space:pre;overflow-x:auto;line-height:normal;font-family:Menlo,'DejaVu Sans Mono',consolas,'Courier New',monospace\"><span style=\"font-weight: bold\"> Total params: </span><span style=\"color: #00af00; text-decoration-color: #00af00\">7,949,824</span> (30.33 MB)\n",
              "</pre>\n"
            ]
          },
          "metadata": {}
        },
        {
          "output_type": "display_data",
          "data": {
            "text/plain": [
              "\u001b[1m Trainable params: \u001b[0m\u001b[38;5;34m7,882,249\u001b[0m (30.07 MB)\n"
            ],
            "text/html": [
              "<pre style=\"white-space:pre;overflow-x:auto;line-height:normal;font-family:Menlo,'DejaVu Sans Mono',consolas,'Courier New',monospace\"><span style=\"font-weight: bold\"> Trainable params: </span><span style=\"color: #00af00; text-decoration-color: #00af00\">7,882,249</span> (30.07 MB)\n",
              "</pre>\n"
            ]
          },
          "metadata": {}
        },
        {
          "output_type": "display_data",
          "data": {
            "text/plain": [
              "\u001b[1m Non-trainable params: \u001b[0m\u001b[38;5;34m67,575\u001b[0m (263.97 KB)\n"
            ],
            "text/html": [
              "<pre style=\"white-space:pre;overflow-x:auto;line-height:normal;font-family:Menlo,'DejaVu Sans Mono',consolas,'Courier New',monospace\"><span style=\"font-weight: bold\"> Non-trainable params: </span><span style=\"color: #00af00; text-decoration-color: #00af00\">67,575</span> (263.97 KB)\n",
              "</pre>\n"
            ]
          },
          "metadata": {}
        }
      ],
      "source": [
        "from tensorflow.keras.applications import EfficientNetB2\n",
        "\n",
        "backbone = EfficientNetB2(\n",
        "    input_shape=(96, 96, 3),\n",
        "    include_top=False # Set include_top to False to remove the classification layers\n",
        ")\n",
        "\n",
        "model = tf.keras.Sequential([\n",
        "    backbone,\n",
        "    tf.keras.layers.GlobalAveragePooling2D(),\n",
        "    tf.keras.layers.Dropout(0.3),\n",
        "    tf.keras.layers.Dense(128, activation='relu'),\n",
        "    tf.keras.layers.Dense(7, activation='softmax')\n",
        "])\n",
        "\n",
        "# Add a dummy input layer to define the input shape for the model\n",
        "input_layer = tf.keras.layers.Input(shape=(96, 96, 3))\n",
        "output = model(input_layer)\n",
        "\n",
        "model.summary() # Now the model summary should work"
      ]
    },
    {
      "cell_type": "markdown",
      "source": [
        "### Compiling your model by providing the Optimizer , Loss and Metrics\n"
      ],
      "metadata": {
        "id": "maCqeyLkuALZ"
      }
    },
    {
      "cell_type": "code",
      "execution_count": null,
      "metadata": {
        "id": "d979730e"
      },
      "outputs": [],
      "source": [
        "model.compile(\n",
        "    optimizer=tf.keras.optimizers.Adam(learning_rate=0.001, beta_1=0.9, beta_2=0.999, epsilon=1e-07),\n",
        "    loss = 'categorical_crossentropy',\n",
        "    metrics=['accuracy' , tf.keras.metrics.Precision(name='precision'),tf.keras.metrics.Recall(name='recall')]\n",
        ")"
      ]
    },
    {
      "cell_type": "markdown",
      "source": [
        "### Train the model\n"
      ],
      "metadata": {
        "id": "GNcFGrBuuCqz"
      }
    },
    {
      "cell_type": "code",
      "execution_count": null,
      "metadata": {
        "colab": {
          "base_uri": "https://localhost:8080/"
        },
        "id": "b7bc8b88",
        "outputId": "eb5034de-b0f8-4a89-d88c-be4d67be4b22"
      },
      "outputs": [
        {
          "output_type": "stream",
          "name": "stdout",
          "text": [
            "Epoch 1/70\n",
            "\u001b[1m672/672\u001b[0m \u001b[32m━━━━━━━━━━━━━━━━━━━━\u001b[0m\u001b[37m\u001b[0m \u001b[1m179s\u001b[0m 100ms/step - accuracy: 0.3295 - loss: 3.0708 - precision: 0.5621 - recall: 0.1151 - val_accuracy: 0.5204 - val_loss: 1.3274 - val_precision: 0.6397 - val_recall: 0.3996\n",
            "Epoch 2/70\n",
            "\u001b[1m672/672\u001b[0m \u001b[32m━━━━━━━━━━━━━━━━━━━━\u001b[0m\u001b[37m\u001b[0m \u001b[1m126s\u001b[0m 97ms/step - accuracy: 0.4872 - loss: 2.4062 - precision: 0.6995 - recall: 0.2813 - val_accuracy: 0.5379 - val_loss: 1.2269 - val_precision: 0.7314 - val_recall: 0.3426\n",
            "Epoch 3/70\n",
            "\u001b[1m672/672\u001b[0m \u001b[32m━━━━━━━━━━━━━━━━━━━━\u001b[0m\u001b[37m\u001b[0m \u001b[1m57s\u001b[0m 85ms/step - accuracy: 0.5292 - loss: 2.2248 - precision: 0.7024 - recall: 0.3312 - val_accuracy: 0.5227 - val_loss: 1.3344 - val_precision: 0.6359 - val_recall: 0.3438\n",
            "Epoch 4/70\n",
            "\u001b[1m672/672\u001b[0m \u001b[32m━━━━━━━━━━━━━━━━━━━━\u001b[0m\u001b[37m\u001b[0m \u001b[1m58s\u001b[0m 87ms/step - accuracy: 0.5349 - loss: 2.1528 - precision: 0.6995 - recall: 0.3472 - val_accuracy: 0.5630 - val_loss: 1.1939 - val_precision: 0.7120 - val_recall: 0.3872\n",
            "Epoch 5/70\n",
            "\u001b[1m672/672\u001b[0m \u001b[32m━━━━━━━━━━━━━━━━━━━━\u001b[0m\u001b[37m\u001b[0m \u001b[1m59s\u001b[0m 88ms/step - accuracy: 0.5612 - loss: 2.0268 - precision: 0.7135 - recall: 0.3781 - val_accuracy: 0.5806 - val_loss: 1.1446 - val_precision: 0.7307 - val_recall: 0.4291\n",
            "Epoch 6/70\n",
            "\u001b[1m672/672\u001b[0m \u001b[32m━━━━━━━━━━━━━━━━━━━━\u001b[0m\u001b[37m\u001b[0m \u001b[1m58s\u001b[0m 86ms/step - accuracy: 0.5701 - loss: 1.9462 - precision: 0.7217 - recall: 0.3948 - val_accuracy: 0.6062 - val_loss: 1.0565 - val_precision: 0.7352 - val_recall: 0.4696\n",
            "Epoch 7/70\n",
            "\u001b[1m672/672\u001b[0m \u001b[32m━━━━━━━━━━━━━━━━━━━━\u001b[0m\u001b[37m\u001b[0m \u001b[1m58s\u001b[0m 86ms/step - accuracy: 0.5846 - loss: 1.8973 - precision: 0.7263 - recall: 0.4200 - val_accuracy: 0.5828 - val_loss: 1.1273 - val_precision: 0.7254 - val_recall: 0.4240\n",
            "Epoch 8/70\n",
            "\u001b[1m672/672\u001b[0m \u001b[32m━━━━━━━━━━━━━━━━━━━━\u001b[0m\u001b[37m\u001b[0m \u001b[1m60s\u001b[0m 89ms/step - accuracy: 0.5908 - loss: 1.8782 - precision: 0.7306 - recall: 0.4290 - val_accuracy: 0.5635 - val_loss: 1.1672 - val_precision: 0.6882 - val_recall: 0.4260\n",
            "Epoch 9/70\n",
            "\u001b[1m672/672\u001b[0m \u001b[32m━━━━━━━━━━━━━━━━━━━━\u001b[0m\u001b[37m\u001b[0m \u001b[1m59s\u001b[0m 88ms/step - accuracy: 0.5993 - loss: 1.7943 - precision: 0.7350 - recall: 0.4427 - val_accuracy: 0.5912 - val_loss: 1.1103 - val_precision: 0.6988 - val_recall: 0.4751\n",
            "Epoch 10/70\n",
            "\u001b[1m672/672\u001b[0m \u001b[32m━━━━━━━━━━━━━━━━━━━━\u001b[0m\u001b[37m\u001b[0m \u001b[1m58s\u001b[0m 86ms/step - accuracy: 0.6054 - loss: 1.7539 - precision: 0.7412 - recall: 0.4535 - val_accuracy: 0.5723 - val_loss: 1.1362 - val_precision: 0.6967 - val_recall: 0.4407\n",
            "Epoch 11/70\n",
            "\u001b[1m672/672\u001b[0m \u001b[32m━━━━━━━━━━━━━━━━━━━━\u001b[0m\u001b[37m\u001b[0m \u001b[1m58s\u001b[0m 86ms/step - accuracy: 0.6129 - loss: 1.6865 - precision: 0.7474 - recall: 0.4742 - val_accuracy: 0.5921 - val_loss: 1.0705 - val_precision: 0.7180 - val_recall: 0.4507\n",
            "Epoch 12/70\n",
            "\u001b[1m672/672\u001b[0m \u001b[32m━━━━━━━━━━━━━━━━━━━━\u001b[0m\u001b[37m\u001b[0m \u001b[1m58s\u001b[0m 87ms/step - accuracy: 0.6271 - loss: 1.6707 - precision: 0.7503 - recall: 0.4845 - val_accuracy: 0.5870 - val_loss: 1.0943 - val_precision: 0.6897 - val_recall: 0.4861\n",
            "Epoch 13/70\n",
            "\u001b[1m672/672\u001b[0m \u001b[32m━━━━━━━━━━━━━━━━━━━━\u001b[0m\u001b[37m\u001b[0m \u001b[1m57s\u001b[0m 85ms/step - accuracy: 0.6311 - loss: 1.6113 - precision: 0.7548 - recall: 0.4967 - val_accuracy: 0.6075 - val_loss: 1.0697 - val_precision: 0.6820 - val_recall: 0.5204\n",
            "Epoch 14/70\n",
            "\u001b[1m672/672\u001b[0m \u001b[32m━━━━━━━━━━━━━━━━━━━━\u001b[0m\u001b[37m\u001b[0m \u001b[1m58s\u001b[0m 87ms/step - accuracy: 0.6405 - loss: 1.6204 - precision: 0.7573 - recall: 0.5059 - val_accuracy: 0.6020 - val_loss: 1.0896 - val_precision: 0.7076 - val_recall: 0.4980\n",
            "Epoch 15/70\n",
            "\u001b[1m672/672\u001b[0m \u001b[32m━━━━━━━━━━━━━━━━━━━━\u001b[0m\u001b[37m\u001b[0m \u001b[1m58s\u001b[0m 87ms/step - accuracy: 0.6480 - loss: 1.5769 - precision: 0.7632 - recall: 0.5232 - val_accuracy: 0.6023 - val_loss: 1.1014 - val_precision: 0.6978 - val_recall: 0.5043\n",
            "Epoch 16/70\n",
            "\u001b[1m672/672\u001b[0m \u001b[32m━━━━━━━━━━━━━━━━━━━━\u001b[0m\u001b[37m\u001b[0m \u001b[1m60s\u001b[0m 89ms/step - accuracy: 0.6519 - loss: 1.5578 - precision: 0.7588 - recall: 0.5215 - val_accuracy: 0.6124 - val_loss: 1.0451 - val_precision: 0.7223 - val_recall: 0.5022\n",
            "Epoch 17/70\n",
            "\u001b[1m672/672\u001b[0m \u001b[32m━━━━━━━━━━━━━━━━━━━━\u001b[0m\u001b[37m\u001b[0m \u001b[1m59s\u001b[0m 88ms/step - accuracy: 0.6612 - loss: 1.4970 - precision: 0.7655 - recall: 0.5382 - val_accuracy: 0.6306 - val_loss: 1.0088 - val_precision: 0.7141 - val_recall: 0.5344\n",
            "Epoch 18/70\n",
            "\u001b[1m672/672\u001b[0m \u001b[32m━━━━━━━━━━━━━━━━━━━━\u001b[0m\u001b[37m\u001b[0m \u001b[1m59s\u001b[0m 88ms/step - accuracy: 0.6678 - loss: 1.4576 - precision: 0.7690 - recall: 0.5549 - val_accuracy: 0.5925 - val_loss: 1.2035 - val_precision: 0.6690 - val_recall: 0.5108\n",
            "Epoch 19/70\n",
            "\u001b[1m672/672\u001b[0m \u001b[32m━━━━━━━━━━━━━━━━━━━━\u001b[0m\u001b[37m\u001b[0m \u001b[1m60s\u001b[0m 89ms/step - accuracy: 0.6719 - loss: 1.4533 - precision: 0.7691 - recall: 0.5541 - val_accuracy: 0.6149 - val_loss: 1.0774 - val_precision: 0.6949 - val_recall: 0.5236\n",
            "Epoch 20/70\n",
            "\u001b[1m672/672\u001b[0m \u001b[32m━━━━━━━━━━━━━━━━━━━━\u001b[0m\u001b[37m\u001b[0m \u001b[1m58s\u001b[0m 87ms/step - accuracy: 0.6834 - loss: 1.3914 - precision: 0.7759 - recall: 0.5789 - val_accuracy: 0.6113 - val_loss: 1.0794 - val_precision: 0.6910 - val_recall: 0.5176\n",
            "Epoch 21/70\n",
            "\u001b[1m672/672\u001b[0m \u001b[32m━━━━━━━━━━━━━━━━━━━━\u001b[0m\u001b[37m\u001b[0m \u001b[1m58s\u001b[0m 87ms/step - accuracy: 0.6792 - loss: 1.4245 - precision: 0.7772 - recall: 0.5763 - val_accuracy: 0.6315 - val_loss: 1.0568 - val_precision: 0.7000 - val_recall: 0.5560\n",
            "Epoch 22/70\n",
            "\u001b[1m672/672\u001b[0m \u001b[32m━━━━━━━━━━━━━━━━━━━━\u001b[0m\u001b[37m\u001b[0m \u001b[1m59s\u001b[0m 87ms/step - accuracy: 0.6961 - loss: 1.3445 - precision: 0.7869 - recall: 0.5945 - val_accuracy: 0.5988 - val_loss: 1.1612 - val_precision: 0.6700 - val_recall: 0.5130\n",
            "Epoch 23/70\n",
            "\u001b[1m672/672\u001b[0m \u001b[32m━━━━━━━━━━━━━━━━━━━━\u001b[0m\u001b[37m\u001b[0m \u001b[1m58s\u001b[0m 86ms/step - accuracy: 0.6876 - loss: 1.3436 - precision: 0.7823 - recall: 0.5898 - val_accuracy: 0.6280 - val_loss: 1.0379 - val_precision: 0.7109 - val_recall: 0.5568\n",
            "Epoch 24/70\n",
            "\u001b[1m672/672\u001b[0m \u001b[32m━━━━━━━━━━━━━━━━━━━━\u001b[0m\u001b[37m\u001b[0m \u001b[1m58s\u001b[0m 87ms/step - accuracy: 0.7089 - loss: 1.2619 - precision: 0.7974 - recall: 0.6194 - val_accuracy: 0.6306 - val_loss: 1.0361 - val_precision: 0.7070 - val_recall: 0.5558\n",
            "Epoch 25/70\n",
            "\u001b[1m672/672\u001b[0m \u001b[32m━━━━━━━━━━━━━━━━━━━━\u001b[0m\u001b[37m\u001b[0m \u001b[1m58s\u001b[0m 86ms/step - accuracy: 0.7079 - loss: 1.2600 - precision: 0.7957 - recall: 0.6174 - val_accuracy: 0.6209 - val_loss: 1.1007 - val_precision: 0.6810 - val_recall: 0.5624\n",
            "Epoch 26/70\n",
            "\u001b[1m672/672\u001b[0m \u001b[32m━━━━━━━━━━━━━━━━━━━━\u001b[0m\u001b[37m\u001b[0m \u001b[1m58s\u001b[0m 87ms/step - accuracy: 0.7121 - loss: 1.2437 - precision: 0.7902 - recall: 0.6250 - val_accuracy: 0.6107 - val_loss: 1.1081 - val_precision: 0.6782 - val_recall: 0.5367\n",
            "Epoch 27/70\n",
            "\u001b[1m672/672\u001b[0m \u001b[32m━━━━━━━━━━━━━━━━━━━━\u001b[0m\u001b[37m\u001b[0m \u001b[1m57s\u001b[0m 85ms/step - accuracy: 0.7217 - loss: 1.2166 - precision: 0.7937 - recall: 0.6305 - val_accuracy: 0.6294 - val_loss: 1.0638 - val_precision: 0.6946 - val_recall: 0.5586\n",
            "Epoch 28/70\n",
            "\u001b[1m672/672\u001b[0m \u001b[32m━━━━━━━━━━━━━━━━━━━━\u001b[0m\u001b[37m\u001b[0m \u001b[1m57s\u001b[0m 85ms/step - accuracy: 0.7230 - loss: 1.2328 - precision: 0.8004 - recall: 0.6417 - val_accuracy: 0.6145 - val_loss: 1.1439 - val_precision: 0.6759 - val_recall: 0.5554\n",
            "Epoch 29/70\n",
            "\u001b[1m672/672\u001b[0m \u001b[32m━━━━━━━━━━━━━━━━━━━━\u001b[0m\u001b[37m\u001b[0m \u001b[1m59s\u001b[0m 88ms/step - accuracy: 0.7372 - loss: 1.1487 - precision: 0.8068 - recall: 0.6547 - val_accuracy: 0.6030 - val_loss: 1.1690 - val_precision: 0.6657 - val_recall: 0.5327\n",
            "Epoch 30/70\n",
            "\u001b[1m672/672\u001b[0m \u001b[32m━━━━━━━━━━━━━━━━━━━━\u001b[0m\u001b[37m\u001b[0m \u001b[1m59s\u001b[0m 87ms/step - accuracy: 0.7259 - loss: 1.1696 - precision: 0.8020 - recall: 0.6451 - val_accuracy: 0.6387 - val_loss: 1.0907 - val_precision: 0.6870 - val_recall: 0.5932\n",
            "Epoch 31/70\n",
            "\u001b[1m672/672\u001b[0m \u001b[32m━━━━━━━━━━━━━━━━━━━━\u001b[0m\u001b[37m\u001b[0m \u001b[1m58s\u001b[0m 86ms/step - accuracy: 0.7477 - loss: 1.0831 - precision: 0.8112 - recall: 0.6810 - val_accuracy: 0.6289 - val_loss: 1.1125 - val_precision: 0.6747 - val_recall: 0.5821\n",
            "Epoch 32/70\n",
            "\u001b[1m672/672\u001b[0m \u001b[32m━━━━━━━━━━━━━━━━━━━━\u001b[0m\u001b[37m\u001b[0m \u001b[1m59s\u001b[0m 88ms/step - accuracy: 0.7455 - loss: 1.1161 - precision: 0.8084 - recall: 0.6767 - val_accuracy: 0.6125 - val_loss: 1.2046 - val_precision: 0.6608 - val_recall: 0.5652\n",
            "Epoch 33/70\n",
            "\u001b[1m672/672\u001b[0m \u001b[32m━━━━━━━━━━━━━━━━━━━━\u001b[0m\u001b[37m\u001b[0m \u001b[1m60s\u001b[0m 89ms/step - accuracy: 0.7610 - loss: 1.0501 - precision: 0.8244 - recall: 0.6964 - val_accuracy: 0.6339 - val_loss: 1.0889 - val_precision: 0.6915 - val_recall: 0.5722\n",
            "Epoch 34/70\n",
            "\u001b[1m672/672\u001b[0m \u001b[32m━━━━━━━━━━━━━━━━━━━━\u001b[0m\u001b[37m\u001b[0m \u001b[1m59s\u001b[0m 88ms/step - accuracy: 0.7694 - loss: 1.0020 - precision: 0.8255 - recall: 0.7064 - val_accuracy: 0.6168 - val_loss: 1.2202 - val_precision: 0.6572 - val_recall: 0.5793\n",
            "Epoch 35/70\n",
            "\u001b[1m672/672\u001b[0m \u001b[32m━━━━━━━━━━━━━━━━━━━━\u001b[0m\u001b[37m\u001b[0m \u001b[1m59s\u001b[0m 88ms/step - accuracy: 0.7718 - loss: 0.9793 - precision: 0.8260 - recall: 0.7111 - val_accuracy: 0.6306 - val_loss: 1.1540 - val_precision: 0.6749 - val_recall: 0.5967\n",
            "Epoch 36/70\n",
            "\u001b[1m672/672\u001b[0m \u001b[32m━━━━━━━━━━━━━━━━━━━━\u001b[0m\u001b[37m\u001b[0m \u001b[1m58s\u001b[0m 86ms/step - accuracy: 0.7816 - loss: 0.9544 - precision: 0.8342 - recall: 0.7232 - val_accuracy: 0.6258 - val_loss: 1.1415 - val_precision: 0.6769 - val_recall: 0.5772\n",
            "Epoch 37/70\n",
            "\u001b[1m672/672\u001b[0m \u001b[32m━━━━━━━━━━━━━━━━━━━━\u001b[0m\u001b[37m\u001b[0m \u001b[1m59s\u001b[0m 88ms/step - accuracy: 0.7799 - loss: 0.9657 - precision: 0.8313 - recall: 0.7195 - val_accuracy: 0.6426 - val_loss: 1.1612 - val_precision: 0.6825 - val_recall: 0.6058\n",
            "Epoch 38/70\n",
            "\u001b[1m672/672\u001b[0m \u001b[32m━━━━━━━━━━━━━━━━━━━━\u001b[0m\u001b[37m\u001b[0m \u001b[1m58s\u001b[0m 86ms/step - accuracy: 0.7889 - loss: 0.9163 - precision: 0.8375 - recall: 0.7357 - val_accuracy: 0.6064 - val_loss: 1.2840 - val_precision: 0.6401 - val_recall: 0.5736\n",
            "Epoch 39/70\n",
            "\u001b[1m672/672\u001b[0m \u001b[32m━━━━━━━━━━━━━━━━━━━━\u001b[0m\u001b[37m\u001b[0m \u001b[1m58s\u001b[0m 86ms/step - accuracy: 0.7960 - loss: 0.9043 - precision: 0.8446 - recall: 0.7470 - val_accuracy: 0.6285 - val_loss: 1.1514 - val_precision: 0.6750 - val_recall: 0.5876\n",
            "Epoch 40/70\n",
            "\u001b[1m672/672\u001b[0m \u001b[32m━━━━━━━━━━━━━━━━━━━━\u001b[0m\u001b[37m\u001b[0m \u001b[1m60s\u001b[0m 89ms/step - accuracy: 0.7990 - loss: 0.8756 - precision: 0.8432 - recall: 0.7505 - val_accuracy: 0.6486 - val_loss: 1.1455 - val_precision: 0.6893 - val_recall: 0.6173\n",
            "Epoch 41/70\n",
            "\u001b[1m672/672\u001b[0m \u001b[32m━━━━━━━━━━━━━━━━━━━━\u001b[0m\u001b[37m\u001b[0m \u001b[1m58s\u001b[0m 87ms/step - accuracy: 0.8005 - loss: 0.8490 - precision: 0.8447 - recall: 0.7588 - val_accuracy: 0.6518 - val_loss: 1.1433 - val_precision: 0.6839 - val_recall: 0.6175\n",
            "Epoch 42/70\n",
            "\u001b[1m672/672\u001b[0m \u001b[32m━━━━━━━━━━━━━━━━━━━━\u001b[0m\u001b[37m\u001b[0m \u001b[1m59s\u001b[0m 87ms/step - accuracy: 0.8146 - loss: 0.8002 - precision: 0.8532 - recall: 0.7762 - val_accuracy: 0.6496 - val_loss: 1.2222 - val_precision: 0.6832 - val_recall: 0.6216\n",
            "Epoch 43/70\n",
            "\u001b[1m672/672\u001b[0m \u001b[32m━━━━━━━━━━━━━━━━━━━━\u001b[0m\u001b[37m\u001b[0m \u001b[1m58s\u001b[0m 87ms/step - accuracy: 0.8208 - loss: 0.7628 - precision: 0.8574 - recall: 0.7874 - val_accuracy: 0.6398 - val_loss: 1.2247 - val_precision: 0.6699 - val_recall: 0.6094\n",
            "Epoch 44/70\n",
            "\u001b[1m672/672\u001b[0m \u001b[32m━━━━━━━━━━━━━━━━━━━━\u001b[0m\u001b[37m\u001b[0m \u001b[1m59s\u001b[0m 87ms/step - accuracy: 0.8281 - loss: 0.7303 - precision: 0.8647 - recall: 0.7953 - val_accuracy: 0.6345 - val_loss: 1.3720 - val_precision: 0.6568 - val_recall: 0.6140\n",
            "Epoch 45/70\n",
            "\u001b[1m672/672\u001b[0m \u001b[32m━━━━━━━━━━━━━━━━━━━━\u001b[0m\u001b[37m\u001b[0m \u001b[1m58s\u001b[0m 87ms/step - accuracy: 0.8370 - loss: 0.7167 - precision: 0.8656 - recall: 0.8040 - val_accuracy: 0.6371 - val_loss: 1.3550 - val_precision: 0.6614 - val_recall: 0.6124\n",
            "Epoch 46/70\n",
            "\u001b[1m672/672\u001b[0m \u001b[32m━━━━━━━━━━━━━━━━━━━━\u001b[0m\u001b[37m\u001b[0m \u001b[1m58s\u001b[0m 87ms/step - accuracy: 0.8268 - loss: 0.7563 - precision: 0.8620 - recall: 0.7934 - val_accuracy: 0.6426 - val_loss: 1.2667 - val_precision: 0.6735 - val_recall: 0.6071\n",
            "Epoch 47/70\n",
            "\u001b[1m672/672\u001b[0m \u001b[32m━━━━━━━━━━━━━━━━━━━━\u001b[0m\u001b[37m\u001b[0m \u001b[1m59s\u001b[0m 88ms/step - accuracy: 0.8270 - loss: 0.7530 - precision: 0.8627 - recall: 0.7950 - val_accuracy: 0.6461 - val_loss: 1.3108 - val_precision: 0.6735 - val_recall: 0.6209\n",
            "Epoch 48/70\n",
            "\u001b[1m672/672\u001b[0m \u001b[32m━━━━━━━━━━━━━━━━━━━━\u001b[0m\u001b[37m\u001b[0m \u001b[1m59s\u001b[0m 87ms/step - accuracy: 0.8360 - loss: 0.7108 - precision: 0.8665 - recall: 0.8083 - val_accuracy: 0.6489 - val_loss: 1.3034 - val_precision: 0.6717 - val_recall: 0.6229\n",
            "Epoch 49/70\n",
            "\u001b[1m672/672\u001b[0m \u001b[32m━━━━━━━━━━━━━━━━━━━━\u001b[0m\u001b[37m\u001b[0m \u001b[1m58s\u001b[0m 87ms/step - accuracy: 0.8512 - loss: 0.6407 - precision: 0.8766 - recall: 0.8236 - val_accuracy: 0.6282 - val_loss: 1.3863 - val_precision: 0.6570 - val_recall: 0.6045\n",
            "Epoch 50/70\n",
            "\u001b[1m672/672\u001b[0m \u001b[32m━━━━━━━━━━━━━━━━━━━━\u001b[0m\u001b[37m\u001b[0m \u001b[1m58s\u001b[0m 87ms/step - accuracy: 0.8542 - loss: 0.6586 - precision: 0.8819 - recall: 0.8263 - val_accuracy: 0.6324 - val_loss: 1.4038 - val_precision: 0.6550 - val_recall: 0.6114\n",
            "Epoch 51/70\n",
            "\u001b[1m672/672\u001b[0m \u001b[32m━━━━━━━━━━━━━━━━━━━━\u001b[0m\u001b[37m\u001b[0m \u001b[1m59s\u001b[0m 88ms/step - accuracy: 0.8496 - loss: 0.6563 - precision: 0.8766 - recall: 0.8235 - val_accuracy: 0.6489 - val_loss: 1.3473 - val_precision: 0.6703 - val_recall: 0.6279\n",
            "Epoch 52/70\n",
            "\u001b[1m672/672\u001b[0m \u001b[32m━━━━━━━━━━━━━━━━━━━━\u001b[0m\u001b[37m\u001b[0m \u001b[1m59s\u001b[0m 88ms/step - accuracy: 0.8614 - loss: 0.6062 - precision: 0.8856 - recall: 0.8400 - val_accuracy: 0.6523 - val_loss: 1.3952 - val_precision: 0.6731 - val_recall: 0.6341\n",
            "Epoch 53/70\n",
            "\u001b[1m672/672\u001b[0m \u001b[32m━━━━━━━━━━━━━━━━━━━━\u001b[0m\u001b[37m\u001b[0m \u001b[1m58s\u001b[0m 86ms/step - accuracy: 0.8652 - loss: 0.5853 - precision: 0.8878 - recall: 0.8447 - val_accuracy: 0.6259 - val_loss: 1.3840 - val_precision: 0.6533 - val_recall: 0.6012\n",
            "Epoch 54/70\n",
            "\u001b[1m672/672\u001b[0m \u001b[32m━━━━━━━━━━━━━━━━━━━━\u001b[0m\u001b[37m\u001b[0m \u001b[1m58s\u001b[0m 86ms/step - accuracy: 0.8554 - loss: 0.6377 - precision: 0.8824 - recall: 0.8313 - val_accuracy: 0.6296 - val_loss: 1.3891 - val_precision: 0.6546 - val_recall: 0.6062\n",
            "Epoch 55/70\n",
            "\u001b[1m672/672\u001b[0m \u001b[32m━━━━━━━━━━━━━━━━━━━━\u001b[0m\u001b[37m\u001b[0m \u001b[1m59s\u001b[0m 87ms/step - accuracy: 0.8650 - loss: 0.5856 - precision: 0.8873 - recall: 0.8447 - val_accuracy: 0.6454 - val_loss: 1.4060 - val_precision: 0.6666 - val_recall: 0.6268\n",
            "Epoch 56/70\n",
            "\u001b[1m672/672\u001b[0m \u001b[32m━━━━━━━━━━━━━━━━━━━━\u001b[0m\u001b[37m\u001b[0m \u001b[1m58s\u001b[0m 86ms/step - accuracy: 0.8711 - loss: 0.5724 - precision: 0.8887 - recall: 0.8514 - val_accuracy: 0.6531 - val_loss: 1.3808 - val_precision: 0.6714 - val_recall: 0.6376\n",
            "Epoch 57/70\n",
            "\u001b[1m672/672\u001b[0m \u001b[32m━━━━━━━━━━━━━━━━━━━━\u001b[0m\u001b[37m\u001b[0m \u001b[1m58s\u001b[0m 87ms/step - accuracy: 0.8786 - loss: 0.5252 - precision: 0.8976 - recall: 0.8615 - val_accuracy: 0.6537 - val_loss: 1.3845 - val_precision: 0.6736 - val_recall: 0.6376\n",
            "Epoch 58/70\n",
            "\u001b[1m672/672\u001b[0m \u001b[32m━━━━━━━━━━━━━━━━━━━━\u001b[0m\u001b[37m\u001b[0m \u001b[1m58s\u001b[0m 87ms/step - accuracy: 0.8830 - loss: 0.5153 - precision: 0.9016 - recall: 0.8657 - val_accuracy: 0.6384 - val_loss: 1.3664 - val_precision: 0.6631 - val_recall: 0.6143\n",
            "Epoch 59/70\n",
            "\u001b[1m672/672\u001b[0m \u001b[32m━━━━━━━━━━━━━━━━━━━━\u001b[0m\u001b[37m\u001b[0m \u001b[1m58s\u001b[0m 87ms/step - accuracy: 0.8717 - loss: 0.5775 - precision: 0.8897 - recall: 0.8508 - val_accuracy: 0.6392 - val_loss: 1.5300 - val_precision: 0.6575 - val_recall: 0.6206\n",
            "Epoch 60/70\n",
            "\u001b[1m672/672\u001b[0m \u001b[32m━━━━━━━━━━━━━━━━━━━━\u001b[0m\u001b[37m\u001b[0m \u001b[1m58s\u001b[0m 87ms/step - accuracy: 0.8919 - loss: 0.4888 - precision: 0.9093 - recall: 0.8766 - val_accuracy: 0.6384 - val_loss: 1.5832 - val_precision: 0.6551 - val_recall: 0.6279\n",
            "Epoch 61/70\n",
            "\u001b[1m672/672\u001b[0m \u001b[32m━━━━━━━━━━━━━━━━━━━━\u001b[0m\u001b[37m\u001b[0m \u001b[1m57s\u001b[0m 85ms/step - accuracy: 0.8866 - loss: 0.5031 - precision: 0.9050 - recall: 0.8699 - val_accuracy: 0.6363 - val_loss: 1.5473 - val_precision: 0.6529 - val_recall: 0.6212\n",
            "Epoch 62/70\n",
            "\u001b[1m672/672\u001b[0m \u001b[32m━━━━━━━━━━━━━━━━━━━━\u001b[0m\u001b[37m\u001b[0m \u001b[1m58s\u001b[0m 86ms/step - accuracy: 0.8862 - loss: 0.5032 - precision: 0.9023 - recall: 0.8711 - val_accuracy: 0.6352 - val_loss: 1.5471 - val_precision: 0.6510 - val_recall: 0.6215\n",
            "Epoch 63/70\n",
            "\u001b[1m672/672\u001b[0m \u001b[32m━━━━━━━━━━━━━━━━━━━━\u001b[0m\u001b[37m\u001b[0m \u001b[1m59s\u001b[0m 88ms/step - accuracy: 0.8911 - loss: 0.4813 - precision: 0.9067 - recall: 0.8776 - val_accuracy: 0.6461 - val_loss: 1.5827 - val_precision: 0.6662 - val_recall: 0.6345\n",
            "Epoch 64/70\n",
            "\u001b[1m672/672\u001b[0m \u001b[32m━━━━━━━━━━━━━━━━━━━━\u001b[0m\u001b[37m\u001b[0m \u001b[1m58s\u001b[0m 87ms/step - accuracy: 0.8880 - loss: 0.4782 - precision: 0.9030 - recall: 0.8754 - val_accuracy: 0.6352 - val_loss: 1.5138 - val_precision: 0.6548 - val_recall: 0.6177\n",
            "Epoch 65/70\n",
            "\u001b[1m672/672\u001b[0m \u001b[32m━━━━━━━━━━━━━━━━━━━━\u001b[0m\u001b[37m\u001b[0m \u001b[1m58s\u001b[0m 86ms/step - accuracy: 0.8863 - loss: 0.5298 - precision: 0.9029 - recall: 0.8687 - val_accuracy: 0.6427 - val_loss: 1.5724 - val_precision: 0.6572 - val_recall: 0.6310\n",
            "Epoch 66/70\n",
            "\u001b[1m672/672\u001b[0m \u001b[32m━━━━━━━━━━━━━━━━━━━━\u001b[0m\u001b[37m\u001b[0m \u001b[1m60s\u001b[0m 89ms/step - accuracy: 0.8962 - loss: 0.4760 - precision: 0.9105 - recall: 0.8814 - val_accuracy: 0.6346 - val_loss: 1.6632 - val_precision: 0.6495 - val_recall: 0.6209\n",
            "Epoch 67/70\n",
            "\u001b[1m672/672\u001b[0m \u001b[32m━━━━━━━━━━━━━━━━━━━━\u001b[0m\u001b[37m\u001b[0m \u001b[1m58s\u001b[0m 86ms/step - accuracy: 0.8948 - loss: 0.4610 - precision: 0.9084 - recall: 0.8816 - val_accuracy: 0.6492 - val_loss: 1.5691 - val_precision: 0.6631 - val_recall: 0.6367\n",
            "Epoch 68/70\n",
            "\u001b[1m672/672\u001b[0m \u001b[32m━━━━━━━━━━━━━━━━━━━━\u001b[0m\u001b[37m\u001b[0m \u001b[1m58s\u001b[0m 86ms/step - accuracy: 0.8917 - loss: 0.4910 - precision: 0.9057 - recall: 0.8789 - val_accuracy: 0.6595 - val_loss: 1.4928 - val_precision: 0.6751 - val_recall: 0.6475\n",
            "Epoch 69/70\n",
            "\u001b[1m672/672\u001b[0m \u001b[32m━━━━━━━━━━━━━━━━━━━━\u001b[0m\u001b[37m\u001b[0m \u001b[1m58s\u001b[0m 87ms/step - accuracy: 0.9074 - loss: 0.4005 - precision: 0.9194 - recall: 0.8987 - val_accuracy: 0.6406 - val_loss: 1.5563 - val_precision: 0.6540 - val_recall: 0.6271\n",
            "Epoch 70/70\n",
            "\u001b[1m672/672\u001b[0m \u001b[32m━━━━━━━━━━━━━━━━━━━━\u001b[0m\u001b[37m\u001b[0m \u001b[1m58s\u001b[0m 87ms/step - accuracy: 0.9021 - loss: 0.4600 - precision: 0.9154 - recall: 0.8875 - val_accuracy: 0.6451 - val_loss: 1.6723 - val_precision: 0.6573 - val_recall: 0.6363\n"
          ]
        }
      ],
      "source": [
        "history = model.fit(\n",
        "    train_dataset,\n",
        "    steps_per_epoch=len(Train_paths)//BATCH_SIZE,\n",
        "    epochs=70,\n",
        "    validation_data=val_dataset,\n",
        "    validation_steps = len(Val_paths)//BATCH_SIZE,\n",
        "    class_weight=class_weight\n",
        ")"
      ]
    },
    {
      "cell_type": "code",
      "execution_count": null,
      "metadata": {
        "id": "7290e5d2"
      },
      "outputs": [],
      "source": [
        "model.layers[0].trainable = False"
      ]
    },
    {
      "cell_type": "code",
      "execution_count": null,
      "metadata": {
        "colab": {
          "base_uri": "https://localhost:8080/",
          "height": 321
        },
        "id": "c691b995",
        "outputId": "63ab3007-fd15-4bec-a12f-1384af82c04e"
      },
      "outputs": [
        {
          "output_type": "display_data",
          "data": {
            "text/plain": [
              "\u001b[1mModel: \"sequential_4\"\u001b[0m\n"
            ],
            "text/html": [
              "<pre style=\"white-space:pre;overflow-x:auto;line-height:normal;font-family:Menlo,'DejaVu Sans Mono',consolas,'Courier New',monospace\"><span style=\"font-weight: bold\">Model: \"sequential_4\"</span>\n",
              "</pre>\n"
            ]
          },
          "metadata": {}
        },
        {
          "output_type": "display_data",
          "data": {
            "text/plain": [
              "┏━━━━━━━━━━━━━━━━━━━━━━━━━━━━━━━━━━━━━━┳━━━━━━━━━━━━━━━━━━━━━━━━━━━━━┳━━━━━━━━━━━━━━━━━┓\n",
              "┃\u001b[1m \u001b[0m\u001b[1mLayer (type)                        \u001b[0m\u001b[1m \u001b[0m┃\u001b[1m \u001b[0m\u001b[1mOutput Shape               \u001b[0m\u001b[1m \u001b[0m┃\u001b[1m \u001b[0m\u001b[1m        Param #\u001b[0m\u001b[1m \u001b[0m┃\n",
              "┡━━━━━━━━━━━━━━━━━━━━━━━━━━━━━━━━━━━━━━╇━━━━━━━━━━━━━━━━━━━━━━━━━━━━━╇━━━━━━━━━━━━━━━━━┩\n",
              "│ efficientnetb2 (\u001b[38;5;33mFunctional\u001b[0m)          │ (\u001b[38;5;45mNone\u001b[0m, \u001b[38;5;34m3\u001b[0m, \u001b[38;5;34m3\u001b[0m, \u001b[38;5;34m1408\u001b[0m)          │       \u001b[38;5;34m7,768,569\u001b[0m │\n",
              "├──────────────────────────────────────┼─────────────────────────────┼─────────────────┤\n",
              "│ global_average_pooling2d             │ (\u001b[38;5;45mNone\u001b[0m, \u001b[38;5;34m1408\u001b[0m)                │               \u001b[38;5;34m0\u001b[0m │\n",
              "│ (\u001b[38;5;33mGlobalAveragePooling2D\u001b[0m)             │                             │                 │\n",
              "├──────────────────────────────────────┼─────────────────────────────┼─────────────────┤\n",
              "│ dropout_6 (\u001b[38;5;33mDropout\u001b[0m)                  │ (\u001b[38;5;45mNone\u001b[0m, \u001b[38;5;34m1408\u001b[0m)                │               \u001b[38;5;34m0\u001b[0m │\n",
              "├──────────────────────────────────────┼─────────────────────────────┼─────────────────┤\n",
              "│ dense_4 (\u001b[38;5;33mDense\u001b[0m)                      │ (\u001b[38;5;45mNone\u001b[0m, \u001b[38;5;34m128\u001b[0m)                 │         \u001b[38;5;34m180,352\u001b[0m │\n",
              "├──────────────────────────────────────┼─────────────────────────────┼─────────────────┤\n",
              "│ dense_5 (\u001b[38;5;33mDense\u001b[0m)                      │ (\u001b[38;5;45mNone\u001b[0m, \u001b[38;5;34m7\u001b[0m)                   │             \u001b[38;5;34m903\u001b[0m │\n",
              "└──────────────────────────────────────┴─────────────────────────────┴─────────────────┘\n"
            ],
            "text/html": [
              "<pre style=\"white-space:pre;overflow-x:auto;line-height:normal;font-family:Menlo,'DejaVu Sans Mono',consolas,'Courier New',monospace\">┏━━━━━━━━━━━━━━━━━━━━━━━━━━━━━━━━━━━━━━┳━━━━━━━━━━━━━━━━━━━━━━━━━━━━━┳━━━━━━━━━━━━━━━━━┓\n",
              "┃<span style=\"font-weight: bold\"> Layer (type)                         </span>┃<span style=\"font-weight: bold\"> Output Shape                </span>┃<span style=\"font-weight: bold\">         Param # </span>┃\n",
              "┡━━━━━━━━━━━━━━━━━━━━━━━━━━━━━━━━━━━━━━╇━━━━━━━━━━━━━━━━━━━━━━━━━━━━━╇━━━━━━━━━━━━━━━━━┩\n",
              "│ efficientnetb2 (<span style=\"color: #0087ff; text-decoration-color: #0087ff\">Functional</span>)          │ (<span style=\"color: #00d7ff; text-decoration-color: #00d7ff\">None</span>, <span style=\"color: #00af00; text-decoration-color: #00af00\">3</span>, <span style=\"color: #00af00; text-decoration-color: #00af00\">3</span>, <span style=\"color: #00af00; text-decoration-color: #00af00\">1408</span>)          │       <span style=\"color: #00af00; text-decoration-color: #00af00\">7,768,569</span> │\n",
              "├──────────────────────────────────────┼─────────────────────────────┼─────────────────┤\n",
              "│ global_average_pooling2d             │ (<span style=\"color: #00d7ff; text-decoration-color: #00d7ff\">None</span>, <span style=\"color: #00af00; text-decoration-color: #00af00\">1408</span>)                │               <span style=\"color: #00af00; text-decoration-color: #00af00\">0</span> │\n",
              "│ (<span style=\"color: #0087ff; text-decoration-color: #0087ff\">GlobalAveragePooling2D</span>)             │                             │                 │\n",
              "├──────────────────────────────────────┼─────────────────────────────┼─────────────────┤\n",
              "│ dropout_6 (<span style=\"color: #0087ff; text-decoration-color: #0087ff\">Dropout</span>)                  │ (<span style=\"color: #00d7ff; text-decoration-color: #00d7ff\">None</span>, <span style=\"color: #00af00; text-decoration-color: #00af00\">1408</span>)                │               <span style=\"color: #00af00; text-decoration-color: #00af00\">0</span> │\n",
              "├──────────────────────────────────────┼─────────────────────────────┼─────────────────┤\n",
              "│ dense_4 (<span style=\"color: #0087ff; text-decoration-color: #0087ff\">Dense</span>)                      │ (<span style=\"color: #00d7ff; text-decoration-color: #00d7ff\">None</span>, <span style=\"color: #00af00; text-decoration-color: #00af00\">128</span>)                 │         <span style=\"color: #00af00; text-decoration-color: #00af00\">180,352</span> │\n",
              "├──────────────────────────────────────┼─────────────────────────────┼─────────────────┤\n",
              "│ dense_5 (<span style=\"color: #0087ff; text-decoration-color: #0087ff\">Dense</span>)                      │ (<span style=\"color: #00d7ff; text-decoration-color: #00d7ff\">None</span>, <span style=\"color: #00af00; text-decoration-color: #00af00\">7</span>)                   │             <span style=\"color: #00af00; text-decoration-color: #00af00\">903</span> │\n",
              "└──────────────────────────────────────┴─────────────────────────────┴─────────────────┘\n",
              "</pre>\n"
            ]
          },
          "metadata": {}
        },
        {
          "output_type": "display_data",
          "data": {
            "text/plain": [
              "\u001b[1m Total params: \u001b[0m\u001b[38;5;34m23,714,324\u001b[0m (90.46 MB)\n"
            ],
            "text/html": [
              "<pre style=\"white-space:pre;overflow-x:auto;line-height:normal;font-family:Menlo,'DejaVu Sans Mono',consolas,'Courier New',monospace\"><span style=\"font-weight: bold\"> Total params: </span><span style=\"color: #00af00; text-decoration-color: #00af00\">23,714,324</span> (90.46 MB)\n",
              "</pre>\n"
            ]
          },
          "metadata": {}
        },
        {
          "output_type": "display_data",
          "data": {
            "text/plain": [
              "\u001b[1m Trainable params: \u001b[0m\u001b[38;5;34m181,255\u001b[0m (708.03 KB)\n"
            ],
            "text/html": [
              "<pre style=\"white-space:pre;overflow-x:auto;line-height:normal;font-family:Menlo,'DejaVu Sans Mono',consolas,'Courier New',monospace\"><span style=\"font-weight: bold\"> Trainable params: </span><span style=\"color: #00af00; text-decoration-color: #00af00\">181,255</span> (708.03 KB)\n",
              "</pre>\n"
            ]
          },
          "metadata": {}
        },
        {
          "output_type": "display_data",
          "data": {
            "text/plain": [
              "\u001b[1m Non-trainable params: \u001b[0m\u001b[38;5;34m7,768,569\u001b[0m (29.63 MB)\n"
            ],
            "text/html": [
              "<pre style=\"white-space:pre;overflow-x:auto;line-height:normal;font-family:Menlo,'DejaVu Sans Mono',consolas,'Courier New',monospace\"><span style=\"font-weight: bold\"> Non-trainable params: </span><span style=\"color: #00af00; text-decoration-color: #00af00\">7,768,569</span> (29.63 MB)\n",
              "</pre>\n"
            ]
          },
          "metadata": {}
        },
        {
          "output_type": "display_data",
          "data": {
            "text/plain": [
              "\u001b[1m Optimizer params: \u001b[0m\u001b[38;5;34m15,764,500\u001b[0m (60.14 MB)\n"
            ],
            "text/html": [
              "<pre style=\"white-space:pre;overflow-x:auto;line-height:normal;font-family:Menlo,'DejaVu Sans Mono',consolas,'Courier New',monospace\"><span style=\"font-weight: bold\"> Optimizer params: </span><span style=\"color: #00af00; text-decoration-color: #00af00\">15,764,500</span> (60.14 MB)\n",
              "</pre>\n"
            ]
          },
          "metadata": {}
        }
      ],
      "source": [
        "model.summary()"
      ]
    },
    {
      "cell_type": "markdown",
      "metadata": {
        "id": "MYe11NihjYEa"
      },
      "source": [
        "### Save model to h5"
      ]
    },
    {
      "cell_type": "code",
      "execution_count": null,
      "metadata": {
        "colab": {
          "base_uri": "https://localhost:8080/"
        },
        "id": "3d04835a",
        "outputId": "09b94a80-841f-40ce-b628-7f6e33f0a051"
      },
      "outputs": [
        {
          "output_type": "stream",
          "name": "stderr",
          "text": [
            "WARNING:absl:You are saving your model as an HDF5 file via `model.save()` or `keras.saving.save_model(model)`. This file format is considered legacy. We recommend using instead the native Keras format, e.g. `model.save('my_model.keras')` or `keras.saving.save_model(model, 'my_model.keras')`. \n"
          ]
        }
      ],
      "source": [
        "model.save('my_model.h5')"
      ]
    },
    {
      "cell_type": "code",
      "execution_count": null,
      "metadata": {
        "colab": {
          "base_uri": "https://localhost:8080/",
          "height": 378
        },
        "id": "5478a4a8",
        "outputId": "a7bdec4c-d12b-4729-ef88-bbac883ef79f"
      },
      "outputs": [
        {
          "output_type": "display_data",
          "data": {
            "text/plain": [
              "<Figure size 1200x400 with 2 Axes>"
            ],
            "image/png": "[encoded data removed]"
          },
          "metadata": {}
        }
      ],
      "source": [
        "import seaborn as sns\n",
        "import matplotlib.pyplot as pyplot\n",
        "\n",
        "sns.set()\n",
        "fig = pyplot.figure(0, (12, 4))\n",
        "\n",
        "ax = pyplot.subplot(1, 2, 1)\n",
        "#The data is being passed as a dictionary to the data argument\n",
        "sns.lineplot(x=history.epoch, y=history.history['accuracy'], label='train')\n",
        "sns.lineplot(x=history.epoch, y=history.history['val_accuracy'], label='valid')\n",
        "pyplot.title('Accuracy')\n",
        "pyplot.tight_layout()\n",
        "\n",
        "ax = pyplot.subplot(1, 2, 2)\n",
        "#The data is being passed as a dictionary to the data argument\n",
        "sns.lineplot(x=history.epoch, y=history.history['loss'], label='train')\n",
        "sns.lineplot(x=history.epoch, y=history.history['val_loss'], label='valid')\n",
        "pyplot.title('Loss')\n",
        "pyplot.tight_layout()\n",
        "\n",
        "pyplot.savefig('epoch_history_dcnn.png')\n",
        "pyplot.show()"
      ]
    },
    {
      "cell_type": "code",
      "execution_count": null,
      "metadata": {
        "id": "0f0215dc"
      },
      "outputs": [],
      "source": []
    }
  ],
  "metadata": {
    "accelerator": "GPU",
    "colab": {
      "gpuType": "T4",
      "provenance": []
    },
    "kernelspec": {
      "display_name": "Python 3",
      "name": "python3"
    },
    "language_info": {
      "codemirror_mode": {
        "name": "ipython",
        "version": 3
      },
      "file_extension": ".py",
      "mimetype": "text/x-python",
      "name": "python",
      "nbconvert_exporter": "python",
      "pygments_lexer": "ipython3",
      "version": "3.11.5"
    }
  },
  "nbformat": 4,
  "nbformat_minor": 0
}